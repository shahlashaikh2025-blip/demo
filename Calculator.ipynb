{
  "nbformat": 4,
  "nbformat_minor": 0,
  "metadata": {
    "colab": {
      "provenance": [],
      "authorship_tag": "ABX9TyNDUEY51Op8sQ0x+ij9NbTm",
      "include_colab_link": true
    },
    "kernelspec": {
      "name": "python3",
      "display_name": "Python 3"
    },
    "language_info": {
      "name": "python"
    }
  },
  "cells": [
    {
      "cell_type": "markdown",
      "metadata": {
        "id": "view-in-github",
        "colab_type": "text"
      },
      "source": [
        "<a href=\"https://colab.research.google.com/github/shahlashaikh2025-blip/demo/blob/main/Calculator.ipynb\" target=\"_parent\"><img src=\"https://colab.research.google.com/assets/colab-badge.svg\" alt=\"Open In Colab\"/></a>"
      ]
    },
    {
      "cell_type": "code",
      "execution_count": null,
      "metadata": {
        "id": "dU4EzRCIVHe-"
      },
      "outputs": [],
      "source": [
        "num1 = float(input(\"Pehla No: \"))\n",
        "op = input(\"Operators (+, -, *, /): \")\n",
        "num2 = float(input(\"Dosra No: \"))\n",
        "\n",
        "if op == \"+\":\n",
        "    print(\"result =\", num1 + num2)\n",
        "elif op == \"-\":\n",
        "    print(\"result =\", num1 - num2)\n",
        "elif op == \"*\":\n",
        "    print(\"result =\", num1 * num2)\n",
        "elif op == \"/\":\n",
        "    if num2 != 0:\n",
        "        print(\"result =\", num1 / num2)\n",
        "    else:\n",
        "        print(\"❌ 0 se divide nahi ho sakta!\")\n",
        "else:\n",
        "    print(\"❌ Ghalat operator!\")\n"
      ]
    }
  ]
}