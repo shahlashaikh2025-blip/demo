{
  "nbformat": 4,
  "nbformat_minor": 0,
  "metadata": {
    "colab": {
      "provenance": [],
      "authorship_tag": "ABX9TyPXQzDQiUMoPCKpa/fWxPZh",
      "include_colab_link": true
    },
    "kernelspec": {
      "name": "python3",
      "display_name": "Python 3"
    },
    "language_info": {
      "name": "python"
    }
  },
  "cells": [
    {
      "cell_type": "markdown",
      "metadata": {
        "id": "view-in-github",
        "colab_type": "text"
      },
      "source": [
        "<a href=\"https://colab.research.google.com/github/shahlashaikh2025-blip/demo/blob/main/To_Do_List_.ipynb\" target=\"_parent\"><img src=\"https://colab.research.google.com/assets/colab-badge.svg\" alt=\"Open In Colab\"/></a>"
      ]
    },
    {
      "cell_type": "code",
      "source": [
        "# Simple To-Do List\n",
        "\n",
        "todo = []\n",
        "\n",
        "while True:\n",
        "    print(\"\\nTo-Do List Menu:\")\n",
        "    print(\"1. Add Task\")\n",
        "    print(\"2. View Tasks\")\n",
        "    print(\"3. Remove Task\")\n",
        "    print(\"4. Exit\")\n",
        "\n",
        "    choice = input(\"Enter your choice: \")\n",
        "\n",
        "    if choice == \"1\":\n",
        "        task = input(\"Enter a new task: \")\n",
        "        todo.append(task)\n",
        "        print(\"Task added!\")\n",
        "\n",
        "    elif choice == \"2\":\n",
        "        print(\"\\nYour Tasks:\")\n",
        "        for i, t in enumerate(todo, 1):\n",
        "            print(i, t)\n",
        "\n",
        "    elif choice == \"3\":\n",
        "        task_num = int(input(\"Enter task number to remove: \"))\n",
        "        if 0 < task_num <= len(todo):\n",
        "            removed = todo.pop(task_num - 1)\n",
        "            print(f\"Removed: {removed}\")\n",
        "        else:\n",
        "            print(\"Invalid task number\")\n",
        "\n",
        "    elif choice == \"4\":\n",
        "        print(\"Goodbye!\")\n",
        "        break\n",
        "    else:\n",
        "        print(\"Invalid choice\")\n"
      ],
      "metadata": {
        "colab": {
          "base_uri": "https://localhost:8080/"
        },
        "id": "bJEvs7UqGlPJ",
        "outputId": "3ecc80e8-423d-4ae9-c37e-1f14983c4be1"
      },
      "execution_count": null,
      "outputs": [
        {
          "name": "stdout",
          "output_type": "stream",
          "text": [
            "\n",
            "To-Do List Menu:\n",
            "1. Add Task\n",
            "2. View Tasks\n",
            "3. Remove Task\n",
            "4. Exit\n",
            "Enter your choice: 1\n",
            "Enter a new task: shahla\n",
            "Task added!\n",
            "\n",
            "To-Do List Menu:\n",
            "1. Add Task\n",
            "2. View Tasks\n",
            "3. Remove Task\n",
            "4. Exit\n",
            "Enter your choice: 3\n"
          ]
        }
      ]
    },
    {
      "cell_type": "code",
      "source": [],
      "metadata": {
        "id": "MC_CSlRlHvQJ"
      },
      "execution_count": null,
      "outputs": []
    }
  ]
}